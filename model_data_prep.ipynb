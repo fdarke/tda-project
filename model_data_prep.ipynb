{
 "cells": [
  {
   "cell_type": "code",
   "execution_count": null,
   "id": "7aaaa4bb-48a4-4b99-a459-4fd393efc42d",
   "metadata": {},
   "outputs": [],
   "source": [
    "import pandas as pd\n",
    "import numpy as np\n",
    "import geopandas as gpd\n",
    "from sklearn.cluster import AgglomerativeClustering\n",
    "from sklearn.preprocessing import StandardScaler\n",
    "from sklearn.model_selection import train_test_split, cross_validate, cross_val_score, GridSearchCV\n",
    "from sklearn.decomposition import PCA\n",
    "from sklearn.metrics import silhouette_score, silhouette_samples\n",
    "from collections import Counter\n",
    "from sklearn.pipeline import Pipeline\n",
    "from sklearn.metrics import accuracy_score\n",
    "from sklearn.preprocessing import StandardScaler\n",
    "from sklearn.linear_model import LogisticRegression\n",
    "from sklearn.decomposition import PCA\n",
    "pd.set_option('display.max_rows', 100)\n",
    "pd.set_option('display.max_columns', 100)\n",
    "pd.set_option('display.width', 1000)"
   ]
  },
  {
   "cell_type": "code",
   "execution_count": null,
   "id": "6f2d5282-73b5-4175-8871-4e237e1109af",
   "metadata": {},
   "outputs": [],
   "source": [
    "deso = gpd.read_file('output/enriched_data.gpkg')\n",
    "deso[\"x\"] = deso.centroid.map(lambda p: p.x)\n",
    "deso[\"y\"] = deso.centroid.map(lambda p: p.y)"
   ]
  },
  {
   "cell_type": "code",
   "execution_count": null,
   "id": "02e1ecb2-a974-4e17-b4b6-2fc1049d681d",
   "metadata": {},
   "outputs": [],
   "source": [
    "X = deso.loc[:, deso.columns.isin(['deso', 'kommun', 'lan', 'kommunnamn', 'lannamn', 'geometry', 'index_right', 'Lkfv',\n",
    "       'Vdnamn', 'Distriktkod', 'Distriktnamn', 'S', 'SD', 'M', 'V', 'C', 'KD',\n",
    "       'MP', 'L', 'STÖRSTA_PARTI']) == False]\n",
    "#y = deso.loc[:, ['S', 'SD', 'M', 'V', 'C', 'KD', 'MP', 'L', 'STÖRSTA_PARTI']]\n",
    "y = deso['STÖRSTA_PARTI']\n",
    "random_seed = 5\n",
    "X_train, X_test, y_train, y_test = train_test_split(X, y, random_state = random_seed, test_size = 0.2)"
   ]
  },
  {
   "cell_type": "code",
   "execution_count": null,
   "id": "d6897ada-9ab5-40c5-af27-90833c4920c6",
   "metadata": {},
   "outputs": [],
   "source": [
    "#param_grid = {\n",
    "#    \"scaler__with_mean\": [True, False],\n",
    "#    \"scaler__with_std\": [True, False],\n",
    "#    \"pca__n_components\": [0.5, 0.75, 0.95],\n",
    "#    \"pca__whiten\": [True, False],\n",
    "#    \"logistic__C\": np.logspace(-4, 4, 4),\n",
    "#}\n",
    "param_grid = {\n",
    "    \"pca__n_components\": [0.5, 0.75, 0.95],\n",
    "    \"logistic__C\": np.logspace(-4, 4, 4),\n",
    "}\n",
    "scaler = StandardScaler()\n",
    "pca = PCA()\n",
    "logistic = LogisticRegression(max_iter=10000, tol=0.1)\n",
    "pipe = Pipeline(steps=[(\"scaler\", scaler), (\"pca\", pca), (\"logistic\", logistic)])\n",
    "search = GridSearchCV(pipe, param_grid, n_jobs=2)\n",
    "search.fit(X_train, y_train.values)\n",
    "print(\"Best parameter (CV score=%0.3f):\" % search.best_score_)\n",
    "print(search.best_params_)"
   ]
  },
  {
   "cell_type": "code",
   "execution_count": null,
   "id": "2ee8d702-07ce-48c8-a68b-9a79748d4fb4",
   "metadata": {},
   "outputs": [],
   "source": []
  }
 ],
 "metadata": {
  "kernelspec": {
   "display_name": "TDA Env",
   "language": "python",
   "name": "myenv"
  },
  "language_info": {
   "codemirror_mode": {
    "name": "ipython",
    "version": 3
   },
   "file_extension": ".py",
   "mimetype": "text/x-python",
   "name": "python",
   "nbconvert_exporter": "python",
   "pygments_lexer": "ipython3",
   "version": "3.8.6"
  }
 },
 "nbformat": 4,
 "nbformat_minor": 5
}
