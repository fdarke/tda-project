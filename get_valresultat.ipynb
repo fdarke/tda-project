{
 "cells": [
  {
   "cell_type": "code",
   "execution_count": null,
   "id": "4b3e96d1-8b08-414d-a672-5c1b1e100c7f",
   "metadata": {},
   "outputs": [],
   "source": [
    "import pandas as pd\n",
    "import geopandas as gpd"
   ]
  },
  {
   "cell_type": "code",
   "execution_count": null,
   "id": "60891a64-7464-488f-b07b-0635ed0e7a9d",
   "metadata": {},
   "outputs": [],
   "source": [
    "valkretsar_url = pd.read_csv('req_data/valkretsar_urls.csv', header = None)\n",
    "deso = gpd.read_file('output/preprocessed_data.gpkg')"
   ]
  },
  {
   "cell_type": "code",
   "execution_count": null,
   "id": "a736e337-bf14-4db1-8758-81b8e7bb4bdd",
   "metadata": {},
   "outputs": [],
   "source": [
    "valresultat = pd.read_csv('req_data/rostdata.csv', delimiter = ';')\n",
    "valresultat = valresultat.loc[valresultat.Distriktnamn != 'Dummy']\n",
    "valresultat['Distriktkod'] = valresultat['Distriktkod'].astype(int)\n",
    "for col in valresultat.loc[:, valresultat.columns.isin(['Distriktkod', 'Distriktnamn']) == False].columns:\n",
    "    valresultat.loc[:, col]  = valresultat.loc[:, col].str.strip('%')\n",
    "    valresultat.loc[:, col] = valresultat.loc[:, col].str.replace(',', '.')\n",
    "    valresultat.loc[:, col] = valresultat.loc[:, col].astype(float)/100\n",
    "    valresultat_cols.append(col.strip(''))\n",
    "valresultat.columns = ['Distriktkod', 'Distriktnamn', 'S', 'SD', 'M', 'V', 'C', 'KD', 'MP', 'L']\n",
    "valresultat = valresultat.loc[valresultat.Distriktnamn != 'Uppsamlingsdistrikt']"
   ]
  },
  {
   "cell_type": "code",
   "execution_count": null,
   "id": "6eacaeea-77ec-456f-9fc6-2ba766d22533",
   "metadata": {},
   "outputs": [],
   "source": [
    "gdf = gpd.GeoDataFrame()\n",
    "for url in valkretsar_url.values:\n",
    "    temp = gpd.read_file(url[0], crs = 'EPSG:3006')\n",
    "    temp.crs = 'EPSG:3006'\n",
    "    temp.set_crs(crs = 'EPSG:3006')\n",
    "    gdf = pd.concat([gdf, temp])\n",
    "gdf.set_crs(crs = 'EPSG:3006')\n",
    "gdf.crs = 'EPSG:3006'\n",
    "gdf.geometry = gdf.geometry.centroid\n",
    "gdf.loc[:,'Lkfv'] = gdf['Lkfv'].astype(int)"
   ]
  },
  {
   "cell_type": "code",
   "execution_count": null,
   "id": "daca5aae-7f92-4343-8c63-de3432af3ac9",
   "metadata": {},
   "outputs": [],
   "source": [
    "gdf = pd.merge(gdf, valresultat, left_on = 'Lkfv', right_on = 'Distriktkod')"
   ]
  },
  {
   "cell_type": "code",
   "execution_count": null,
   "id": "41b5df01-086e-4792-8a51-911f676a1e61",
   "metadata": {},
   "outputs": [],
   "source": [
    "deso['poly_geom'] = deso.geometry\n",
    "deso.geometry = deso.geometry.centroid\n",
    "deso = deso.sjoin_nearest(gdf)\n",
    "deso.geometry = deso['poly_geom']\n",
    "deso.drop('poly_geom', axis = 1, inplace = True)\n",
    "deso['STÖRSTA_PARTI'] = deso[['S', 'SD', 'M', 'V', 'C', 'KD', 'MP', 'L']].idxmax(axis=1)"
   ]
  },
  {
   "cell_type": "code",
   "execution_count": null,
   "id": "39995732-af4e-45f3-99b6-8c0b3feef759",
   "metadata": {},
   "outputs": [],
   "source": [
    "c_dict = {'S': 'r', 'SD': 'y', 'M': 'b', 'V': 'r', 'C': 'gr', 'KD': 'purple', 'MP': "
   ]
  },
  {
   "cell_type": "code",
   "execution_count": null,
   "id": "7e769ffe-f80e-4325-b9a9-b30d97f6e46d",
   "metadata": {},
   "outputs": [],
   "source": [
    "deso.explore(column = 'STÖRSTA_PARTI')"
   ]
  }
 ],
 "metadata": {
  "kernelspec": {
   "display_name": "TDA Env",
   "language": "python",
   "name": "myenv"
  },
  "language_info": {
   "codemirror_mode": {
    "name": "ipython",
    "version": 3
   },
   "file_extension": ".py",
   "mimetype": "text/x-python",
   "name": "python",
   "nbconvert_exporter": "python",
   "pygments_lexer": "ipython3",
   "version": "3.8.6"
  }
 },
 "nbformat": 4,
 "nbformat_minor": 5
}
