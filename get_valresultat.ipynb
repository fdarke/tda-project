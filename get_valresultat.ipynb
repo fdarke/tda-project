{
 "cells": [
  {
   "cell_type": "code",
   "execution_count": null,
   "id": "4b3e96d1-8b08-414d-a672-5c1b1e100c7f",
   "metadata": {},
   "outputs": [],
   "source": [
    "import pandas as pd\n",
    "import geopandas as gpd"
   ]
  },
  {
   "cell_type": "code",
   "execution_count": null,
   "id": "60891a64-7464-488f-b07b-0635ed0e7a9d",
   "metadata": {},
   "outputs": [],
   "source": [
    "valkretsar_url = pd.read_csv('req_data/valkretsar_urls.csv', header = None)\n",
    "deso = gpd.read_file('output/preprocessed_data.gpkg')"
   ]
  },
  {
   "cell_type": "code",
   "execution_count": null,
   "id": "a736e337-bf14-4db1-8758-81b8e7bb4bdd",
   "metadata": {},
   "outputs": [],
   "source": [
    "valresultat = pd.read_csv('req_data/rostdata.csv', delimiter = ';')\n",
    "valresultat = valresultat.loc[valresultat.Distriktnamn != 'Dummy']"
   ]
  },
  {
   "cell_type": "code",
   "execution_count": null,
   "id": "891243d4-37e7-4152-9fec-04177cdbb06d",
   "metadata": {},
   "outputs": [],
   "source": [
    "valresultat.loc[:, 'Distriktkod'] = valresultat."
   ]
  },
  {
   "cell_type": "code",
   "execution_count": null,
   "id": "6eacaeea-77ec-456f-9fc6-2ba766d22533",
   "metadata": {},
   "outputs": [],
   "source": [
    "gdf = gpd.GeoDataFrame()\n",
    "for url in valkretsar_url.values:\n",
    "    temp = gpd.read_file(url[0], crs = 'EPSG:3006')\n",
    "    temp.crs = 'EPSG:3006'\n",
    "    temp.set_crs(crs = 'EPSG:3006')\n",
    "    gdf = pd.concat([gdf, temp])\n",
    "gdf.set_crs(crs = 'EPSG:3006')\n",
    "gdf.crs = 'EPSG:3006'\n",
    "gdf.geometry = gdf.geometry.centroid"
   ]
  },
  {
   "cell_type": "code",
   "execution_count": null,
   "id": "8e2d361a-b824-4cf1-9f34-62d745c3ecd3",
   "metadata": {},
   "outputs": [],
   "source": [
    "valresultat = pd.read_excel('req_data/Slutlig-rostdata-per-distrikt-riksdagsvalet-med-distriktkoder.xlsx')"
   ]
  },
  {
   "cell_type": "code",
   "execution_count": null,
   "id": "a3ab3256-8748-47fa-a9ac-8348f61122bb",
   "metadata": {},
   "outputs": [],
   "source": [
    "valresultat.loc[:, 'Kommunnamn'] = valresultat.loc[:, 'Kommunnamn'].str.upper()\n",
    "deso.loc[:, 'kommunnamn'] = deso['kommunnamn'].str.upper()\n",
    "valresultat.fillna('0', inplace = True)\n",
    "valresultat.loc[:, 'Andel 2022'] = valresultat['Andel 2022'].str.strip('%')\n",
    "valresultat.loc[:, 'Andel 2022'] = valresultat['Andel 2022'].str.replace(',', '.')\n",
    "valresultat.loc[:, 'Andel 2022'] = valresultat['Andel 2022'].astype(float)/100"
   ]
  },
  {
   "cell_type": "code",
   "execution_count": null,
   "id": "bbe7be9e-5ed3-447b-89fc-47d32d380bca",
   "metadata": {},
   "outputs": [],
   "source": [
    "valresultat = valresultat.pivot(index = 'Kommunnamn', columns = 'Parti', values = 'Andel 2022').reset_index()"
   ]
  },
  {
   "cell_type": "code",
   "execution_count": null,
   "id": "9e7cf4b1-a8b6-4933-a428-a76907e025a7",
   "metadata": {},
   "outputs": [],
   "source": [
    "deso.loc[deso.kommunnamn == 'ÖSTRA GÖINGE']"
   ]
  },
  {
   "cell_type": "code",
   "execution_count": null,
   "id": "89e6c0c8-f60c-43db-99f3-3afada73b3c4",
   "metadata": {},
   "outputs": [],
   "source": [
    "valresultat = valresultat.groupby('Kommunnamn').agg({'Parti': pd.Series.Mode()"
   ]
  },
  {
   "cell_type": "code",
   "execution_count": null,
   "id": "5a5f4304-8fc5-4aea-a579-2cfa6b65ed81",
   "metadata": {},
   "outputs": [],
   "source": [
    "pd.merge(deso, valresultat, left_on = 'kommunnamn', right_on = 'Kommunnamn', how = 'left')"
   ]
  }
 ],
 "metadata": {
  "kernelspec": {
   "display_name": "TDA Env",
   "language": "python",
   "name": "myenv"
  },
  "language_info": {
   "codemirror_mode": {
    "name": "ipython",
    "version": 3
   },
   "file_extension": ".py",
   "mimetype": "text/x-python",
   "name": "python",
   "nbconvert_exporter": "python",
   "pygments_lexer": "ipython3",
   "version": "3.8.6"
  }
 },
 "nbformat": 4,
 "nbformat_minor": 5
}
