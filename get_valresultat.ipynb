{
 "cells": [
  {
   "cell_type": "code",
   "execution_count": 1,
   "id": "4b3e96d1-8b08-414d-a672-5c1b1e100c7f",
   "metadata": {},
   "outputs": [
    {
     "ename": "ModuleNotFoundError",
     "evalue": "No module named 'geopandas'",
     "output_type": "error",
     "traceback": [
      "\u001b[0;31m---------------------------------------------------------------------------\u001b[0m",
      "\u001b[0;31mModuleNotFoundError\u001b[0m                       Traceback (most recent call last)",
      "Cell \u001b[0;32mIn [1], line 2\u001b[0m\n\u001b[1;32m      1\u001b[0m \u001b[38;5;28;01mimport\u001b[39;00m \u001b[38;5;21;01mpandas\u001b[39;00m \u001b[38;5;28;01mas\u001b[39;00m \u001b[38;5;21;01mpd\u001b[39;00m\n\u001b[0;32m----> 2\u001b[0m \u001b[38;5;28;01mimport\u001b[39;00m \u001b[38;5;21;01mgeopandas\u001b[39;00m \u001b[38;5;28;01mas\u001b[39;00m \u001b[38;5;21;01mgpd\u001b[39;00m\n\u001b[1;32m      3\u001b[0m \u001b[38;5;28;01mfrom\u001b[39;00m \u001b[38;5;21;01msklearn\u001b[39;00m\u001b[38;5;21;01m.\u001b[39;00m\u001b[38;5;21;01mcluster\u001b[39;00m \u001b[38;5;28;01mimport\u001b[39;00m AgglomerativeClustering\n\u001b[1;32m      4\u001b[0m \u001b[38;5;28;01mfrom\u001b[39;00m \u001b[38;5;21;01msklearn\u001b[39;00m\u001b[38;5;21;01m.\u001b[39;00m\u001b[38;5;21;01mpreprocessing\u001b[39;00m \u001b[38;5;28;01mimport\u001b[39;00m StandardScaler\n",
      "\u001b[0;31mModuleNotFoundError\u001b[0m: No module named 'geopandas'"
     ]
    }
   ],
   "source": [
    "import pandas as pd\n",
    "import geopandas as gpd\n",
    "from sklearn.cluster import AgglomerativeClustering\n",
    "from sklearn.preprocessing import StandardScaler\n",
    "from sklearn.decomposition import PCA\n",
    "from sklearn.metrics import silhouette_score, silhouette_samples\n",
    "from collections import Counter"
   ]
  },
  {
   "cell_type": "code",
   "execution_count": null,
   "id": "60891a64-7464-488f-b07b-0635ed0e7a9d",
   "metadata": {},
   "outputs": [],
   "source": [
    "valkretsar_url = pd.read_csv('req_data/valkretsar_urls.csv', header = None)\n",
    "deso = gpd.read_file('output/preprocessed_data.gpkg')"
   ]
  },
  {
   "cell_type": "code",
   "execution_count": null,
   "id": "a736e337-bf14-4db1-8758-81b8e7bb4bdd",
   "metadata": {},
   "outputs": [],
   "source": [
    "valresultat = pd.read_csv('req_data/rostdata.csv', delimiter = ';')\n",
    "valresultat = valresultat.loc[valresultat.Distriktnamn != 'Dummy']\n",
    "valresultat['Distriktkod'] = valresultat['Distriktkod'].astype(int)\n",
    "for col in valresultat.loc[:, valresultat.columns.isin(['Distriktkod', 'Distriktnamn']) == False].columns:\n",
    "    valresultat.loc[:, col]  = valresultat.loc[:, col].str.strip('%')\n",
    "    valresultat.loc[:, col] = valresultat.loc[:, col].str.replace(',', '.')\n",
    "    valresultat.loc[:, col] = valresultat.loc[:, col].astype(float)/100\n",
    "    valresultat_cols.append(col.strip(''))\n",
    "valresultat.columns = ['Distriktkod', 'Distriktnamn', 'S', 'SD', 'M', 'V', 'C', 'KD', 'MP', 'L']\n",
    "valresultat = valresultat.loc[valresultat.Distriktnamn != 'Uppsamlingsdistrikt']"
   ]
  },
  {
   "cell_type": "code",
   "execution_count": null,
   "id": "6eacaeea-77ec-456f-9fc6-2ba766d22533",
   "metadata": {},
   "outputs": [],
   "source": [
    "gdf = gpd.GeoDataFrame()\n",
    "for url in valkretsar_url.values:\n",
    "    temp = gpd.read_file(url[0], crs = 'EPSG:3006')\n",
    "    temp.crs = 'EPSG:3006'\n",
    "    temp.set_crs(crs = 'EPSG:3006')\n",
    "    gdf = pd.concat([gdf, temp])\n",
    "gdf.set_crs(crs = 'EPSG:3006')\n",
    "gdf.crs = 'EPSG:3006'\n",
    "gdf.geometry = gdf.geometry.centroid\n",
    "gdf.loc[:,'Lkfv'] = gdf['Lkfv'].astype(int)"
   ]
  },
  {
   "cell_type": "code",
   "execution_count": null,
   "id": "daca5aae-7f92-4343-8c63-de3432af3ac9",
   "metadata": {},
   "outputs": [],
   "source": [
    "gdf = pd.merge(gdf, valresultat, left_on = 'Lkfv', right_on = 'Distriktkod')"
   ]
  },
  {
   "cell_type": "code",
   "execution_count": null,
   "id": "41b5df01-086e-4792-8a51-911f676a1e61",
   "metadata": {},
   "outputs": [],
   "source": [
    "deso['poly_geom'] = deso.geometry\n",
    "deso.geometry = deso.geometry.centroid\n",
    "deso = deso.sjoin_nearest(gdf)\n",
    "deso.geometry = deso['poly_geom']\n",
    "deso.drop('poly_geom', axis = 1, inplace = True)\n",
    "deso['BLOCK'] = \n",
    "deso['STÖRSTA_PARTI'] = deso[['S', 'SD', 'M', 'V', 'C', 'KD', 'MP', 'L']].idxmax(axis=1)"
   ]
  },
  {
   "cell_type": "code",
   "execution_count": null,
   "id": "b87edb58-00a7-4377-be6e-8b7a58c5bc78",
   "metadata": {},
   "outputs": [],
   "source": [
    "deso.to_file('output/enriched_data.gpkg')\n",
    "pd.DataFrame(data = deso.drop('geometry', axis = 1)).to_pickle('output/enriched_data.pkl')"
   ]
  },
  {
   "cell_type": "code",
   "execution_count": null,
   "id": "52f5d5c8-3f58-4111-a8e8-6e4f12104f1f",
   "metadata": {},
   "outputs": [],
   "source": [
    "X = deso.loc[:, deso.columns.isin(['deso', 'kommun', 'lan', 'kommunnamn', 'lannamn', 'geometry', 'index_right', 'Lkfv',\n",
    "       'Vdnamn', 'Distriktkod', 'Distriktnamn', 'S', 'SD', 'M', 'V', 'C', 'KD',\n",
    "       'MP', 'L', 'STÖRSTA_PARTI']) == False]"
   ]
  },
  {
   "cell_type": "code",
   "execution_count": null,
   "id": "83640f12-2a7e-4c58-8add-6313ab84e951",
   "metadata": {},
   "outputs": [],
   "source": [
    "scaler = StandardScaler()\n",
    "deso_scaled = scaler.fit_transform(X)\n",
    "#deso_pca = pca.fit_transform(deso_scaled)\n",
    "model = AgglomerativeClustering(n_clusters=6)\n",
    "model = model.fit(deso_scaled)"
   ]
  },
  {
   "cell_type": "code",
   "execution_count": null,
   "id": "655dbefb-8cec-47f9-ab88-b777e14910e9",
   "metadata": {},
   "outputs": [],
   "source": [
    "print(model.n_clusters_)\n",
    "print(Counter(model.labels_))\n",
    "print(silhouette_score(deso_scaled, model.labels_))"
   ]
  },
  {
   "cell_type": "code",
   "execution_count": null,
   "id": "5803a691-2c50-4ed2-b456-cec3ab3e0e8c",
   "metadata": {},
   "outputs": [],
   "source": [
    "deso.explore()"
   ]
  }
 ],
 "metadata": {
  "kernelspec": {
   "display_name": "Python 3.10.6 64-bit",
   "language": "python",
   "name": "python3"
  },
  "language_info": {
   "codemirror_mode": {
    "name": "ipython",
    "version": 3
   },
   "file_extension": ".py",
   "mimetype": "text/x-python",
   "name": "python",
   "nbconvert_exporter": "python",
   "pygments_lexer": "ipython3",
   "version": "3.10.6"
  },
  "vscode": {
   "interpreter": {
    "hash": "b0fa6594d8f4cbf19f97940f81e996739fb7646882a419484c72d19e05852a7e"
   }
  }
 },
 "nbformat": 4,
 "nbformat_minor": 5
}
