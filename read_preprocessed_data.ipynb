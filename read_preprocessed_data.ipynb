{
 "cells": [
  {
   "cell_type": "code",
   "execution_count": null,
   "id": "3cac98fe-268d-4935-9665-a9ad92425765",
   "metadata": {},
   "outputs": [],
   "source": [
    "import pandas as pd\n",
    "import geopandas as gpd\n",
    "pd.set_option('display.max_rows', 100)\n",
    "pd.set_option('display.max_columns', 100)\n",
    "pd.set_option('display.width', 1000)"
   ]
  },
  {
   "cell_type": "code",
   "execution_count": null,
   "id": "6c6d6dc3-2cd0-4f36-a456-c62e09cfa910",
   "metadata": {},
   "outputs": [],
   "source": [
    "deso_gdf = gpd.read_file('output/preprocessed_data.gpkg')"
   ]
  },
  {
   "cell_type": "code",
   "execution_count": null,
   "id": "2f6b75de-d1a4-4f21-9744-c004e44cabbd",
   "metadata": {},
   "outputs": [],
   "source": [
    "deso_df = pd.read_pickle('output/preprocessed_data.pkl')"
   ]
  },
  {
   "cell_type": "code",
   "execution_count": null,
   "id": "7db02ecc-de24-4a86-9a17-2fa2af6640c6",
   "metadata": {},
   "outputs": [],
   "source": [
    "deso_df.isna().sum()"
   ]
  }
 ],
 "metadata": {
  "kernelspec": {
   "display_name": "TDA Env",
   "language": "python",
   "name": "myenv"
  },
  "language_info": {
   "codemirror_mode": {
    "name": "ipython",
    "version": 3
   },
   "file_extension": ".py",
   "mimetype": "text/x-python",
   "name": "python",
   "nbconvert_exporter": "python",
   "pygments_lexer": "ipython3",
   "version": "3.8.6"
  }
 },
 "nbformat": 4,
 "nbformat_minor": 5
}
