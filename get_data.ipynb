{
 "cells": [
  {
   "cell_type": "code",
   "execution_count": null,
   "id": "06f0d330-7989-4a6f-9c7f-fa6f828116a3",
   "metadata": {},
   "outputs": [],
   "source": [
    "import json\n",
    "import requests\n",
    "import pandas as pd\n",
    "import geopandas as gpd\n",
    "pd.set_option('display.max_rows', 100)\n",
    "pd.set_option('display.max_columns', 100)\n",
    "pd.set_option('display.width', 1000)"
   ]
  },
  {
   "cell_type": "code",
   "execution_count": null,
   "id": "46151b8a-5d07-47b1-8d4f-b5c5886c1e1f",
   "metadata": {},
   "outputs": [],
   "source": [
    "deso_url = 'https://geodata.scb.se/geoserver/stat/ows?service=WFS&version=1.0.0&request=GetFeature&typeName=stat%3ADeSO.2018&outputFormat=Geopackage&format_options=charset:UTF-8'\n",
    "deso = gpd.read_file(deso_url)"
   ]
  },
  {
   "cell_type": "code",
   "execution_count": null,
   "id": "b9fa1036-1c42-4e19-8ed7-1e9f6908bbca",
   "metadata": {},
   "outputs": [],
   "source": [
    "deso = deso[['deso', 'kommun', 'lan', 'kommunnamn', 'lannamn', 'geometry']]"
   ]
  },
  {
   "cell_type": "markdown",
   "id": "f14213c3-d531-4102-ae6b-d85df783683d",
   "metadata": {},
   "source": [
    "## Utbildningsnivå"
   ]
  },
  {
   "cell_type": "code",
   "execution_count": null,
   "id": "66ae17d5-4b0a-4f4a-8f90-41d55f28e23f",
   "metadata": {},
   "outputs": [],
   "source": [
    "session = requests.Session()\n",
    "x = open('req_data/pxapi-api_table_UtbSUNBefDesoRegso.json')\n",
    "query = json.load(x)['queryObj']\n",
    "url = 'https://api.scb.se/OV0104/v1/doris/sv/ssd/START/UF/UF0506/UF0506YDeso/UtbSUNBefDesoRegso'\n",
    "query['response']['format'] = 'json'\n",
    "response = session.post(url, json=query)\n",
    "response_json = json.loads(response.content)"
   ]
  },
  {
   "cell_type": "code",
   "execution_count": null,
   "id": "8af34881-f6f5-4d18-b1d6-e6f67e45d0fd",
   "metadata": {},
   "outputs": [],
   "source": [
    "df = pd.DataFrame(data = response_json['data'])\n",
    "values = pd.DataFrame(df['values'].to_list(), columns = ['Antal_utbildningslängd'])\n",
    "split = pd.DataFrame(df['key'].tolist(), columns = ['DESO', 'Utbildningslängd', 'År'])\n",
    "split.loc[split.Utbildningslängd == '21', 'Utbildningslängd'] = 'Förgymnasial'\n",
    "split.loc[split.Utbildningslängd == '3+4', 'Utbildningslängd'] = 'Gymnasial'\n",
    "split.loc[split.Utbildningslängd == '5', 'Utbildningslängd'] = 'Eftergymnasial < 3 år'\n",
    "split.loc[split.Utbildningslängd == '6', 'Utbildningslängd'] = 'Eftergymnasial >= 3 år'\n",
    "split.loc[split.Utbildningslängd == 'US', 'Utbildningslängd'] = 'Uppgift saknas'\n",
    "df = split.join(values).drop('År', axis = 1)\n",
    "df = df.pivot(index = 'DESO', columns = 'Utbildningslängd', values = 'Antal_utbildningslängd')\n",
    "df.columns.name = None\n",
    "df = df.astype(int)\n",
    "df = df.divide(df.sum(axis = 1), axis = 0)\n",
    "deso = pd.merge(deso, df, left_on = 'deso', right_index = True)"
   ]
  },
  {
   "cell_type": "markdown",
   "id": "af8275ce-404c-4ca0-b630-074d23039bb7",
   "metadata": {},
   "source": [
    "## Folkmängd per bakgrund & kön"
   ]
  },
  {
   "cell_type": "code",
   "execution_count": null,
   "id": "be8c03be-a56c-44b0-bd84-d6aa49181358",
   "metadata": {},
   "outputs": [],
   "source": [
    "session = requests.Session()\n",
    "x = open('req_data/pxapi-api_table_FolkmDesoBakgrKonN.json')\n",
    "query = json.load(x)['queryObj']\n",
    "url = 'https://api.scb.se/OV0104/v1/doris/sv/ssd/START/BE/BE0101/BE0101Y/FolkmDesoBakgrKonN'\n",
    "query['response']['format'] = 'json'\n",
    "response = session.post(url, json=query)\n",
    "response_json = json.loads(response.content)"
   ]
  },
  {
   "cell_type": "code",
   "execution_count": null,
   "id": "21788af4-af74-4f21-b08d-dd8f13f5e236",
   "metadata": {},
   "outputs": [],
   "source": [
    "df = pd.DataFrame(data = response_json['data'])\n",
    "values = pd.DataFrame(df['values'].to_list(), columns = ['Antal_härkomst_kön'])\n",
    "split = pd.DataFrame(df['key'].tolist(), columns = ['DESO', 'Härkomst', 'Kön', 'År'])\n",
    "split.loc[split.Härkomst == '1', 'Härkomst'] = 'Utländsk'\n",
    "split.loc[split.Härkomst == '2', 'Härkomst'] = 'Svensk'\n",
    "split.loc[split.Kön == '1', 'Kön'] = 'Man'\n",
    "split.loc[split.Kön == '2', 'Kön'] = 'Kvinna'\n",
    "df = split.join(values).drop('År', axis = 1)\n",
    "df = df.pivot(index = 'DESO', columns = ['Härkomst', 'Kön'], values = 'Antal_härkomst_kön')\n",
    "df.columns.name = None\n",
    "df.columns = df.columns.to_flat_index()\n",
    "df = df.astype(int)\n",
    "df = df.divide(df.sum(axis = 1), axis = 0)\n",
    "deso = pd.merge(deso, df, left_on = 'deso', right_index = True)"
   ]
  },
  {
   "cell_type": "markdown",
   "id": "ee115c57-22cd-4a67-8fae-816329b5a622",
   "metadata": {},
   "source": [
    "## Folkmängd per åldersgrupp"
   ]
  },
  {
   "cell_type": "code",
   "execution_count": null,
   "id": "38da1175-eb2e-46e0-9055-43aac0e481ec",
   "metadata": {},
   "outputs": [],
   "source": [
    "session = requests.Session()\n",
    "x = open('req_data/pxapi-api_table_FolkmDesoAldKonN.json')\n",
    "query = json.load(x)['queryObj']\n",
    "url = 'https://api.scb.se/OV0104/v1/doris/sv/ssd/START/BE/BE0101/BE0101Y/FolkmDesoAldKonN'\n",
    "query['response']['format'] = 'json'\n",
    "response = session.post(url, json=query)\n",
    "response_json = json.loads(response.content)"
   ]
  },
  {
   "cell_type": "code",
   "execution_count": null,
   "id": "6fb9ac52-f1c9-444d-9675-da18e364556d",
   "metadata": {},
   "outputs": [],
   "source": [
    "df = pd.DataFrame(data = response_json['data'])\n",
    "values = pd.DataFrame(df['values'].to_list(), columns = ['Antal_åldersgrupp'])\n",
    "split = pd.DataFrame(df['key'].tolist(), columns = ['DESO', 'Åldersgrupp', 'År'])\n",
    "df = split.join(values).drop('År', axis = 1)\n",
    "df = df.pivot(index = 'DESO', columns = ['Åldersgrupp'], values = 'Antal_åldersgrupp')\n",
    "df.columns.name = None\n",
    "df = df.astype(int)\n",
    "df = df.divide(df.sum(axis = 1), axis = 0)\n",
    "deso = pd.merge(deso, df, left_on = 'deso', right_index = True)"
   ]
  },
  {
   "cell_type": "markdown",
   "id": "b4cb9aab-d59d-44aa-bbf0-3169889082f4",
   "metadata": {},
   "source": [
    "## Folkmängd per civilstånd & kön"
   ]
  },
  {
   "cell_type": "code",
   "execution_count": null,
   "id": "bc1dfc29-0113-4b15-814d-74ceb05b70f3",
   "metadata": {},
   "outputs": [],
   "source": [
    "session = requests.Session()\n",
    "x = open('req_data/pxapi-api_table_FolkmDesoCivilKonN.json')\n",
    "query = json.load(x)['queryObj']\n",
    "url = 'https://api.scb.se/OV0104/v1/doris/sv/ssd/START/BE/BE0101/BE0101Y/FolkmDesoCivilKonN'\n",
    "query['response']['format'] = 'json'\n",
    "response = session.post(url, json=query)\n",
    "response_json = json.loads(response.content)"
   ]
  },
  {
   "cell_type": "code",
   "execution_count": null,
   "id": "c2316878-4a0b-4a70-b38c-56b5c48bc336",
   "metadata": {},
   "outputs": [],
   "source": [
    "df = pd.DataFrame(data = response_json['data'])\n",
    "values = pd.DataFrame(df['values'].to_list(), columns = ['Antal_civilstånd'])\n",
    "split = pd.DataFrame(df['key'].tolist(), columns = ['DESO', 'Civilstånd', 'Kön', 'År'])\n",
    "split.loc[split.Kön == '1', 'Kön'] = 'Man'\n",
    "split.loc[split.Kön == '2', 'Kön'] = 'Kvinna'\n",
    "df = split.join(values).drop('År', axis = 1)\n",
    "df = df.pivot(index = 'DESO', columns = ['Civilstånd', 'Kön'], values = 'Antal_civilstånd')\n",
    "df.columns.name = None\n",
    "df.columns = df.columns.to_flat_index()\n",
    "df = df.astype(int)\n",
    "df = df.divide(df.sum(axis = 1), axis = 0)\n",
    "deso = pd.merge(deso, df, left_on = 'deso', right_index = True)"
   ]
  },
  {
   "cell_type": "markdown",
   "id": "535750cd-9625-4519-b690-4c738d84e314",
   "metadata": {},
   "source": [
    "## Folkmängd per hushållstyp"
   ]
  },
  {
   "cell_type": "code",
   "execution_count": null,
   "id": "9c194690-51b0-4b4b-a35b-5bdaf260d3a4",
   "metadata": {
    "tags": []
   },
   "outputs": [],
   "source": [
    "session = requests.Session()\n",
    "x = open('req_data/pxapi-api_table_HushallDesoTypN.json')\n",
    "query = json.load(x)['queryObj']\n",
    "url = 'https://api.scb.se/OV0104/v1/doris/sv/ssd/START/BE/BE0101/BE0101Y/HushallDesoTypN'\n",
    "query['response']['format'] = 'json'\n",
    "response = session.post(url, json=query)\n",
    "response_json = json.loads(response.content)"
   ]
  },
  {
   "cell_type": "code",
   "execution_count": null,
   "id": "188d9da5-312e-49ec-87ef-3a9011aa79fe",
   "metadata": {},
   "outputs": [],
   "source": [
    "df = pd.DataFrame(data = response_json['data'])\n",
    "values = pd.DataFrame(df['values'].to_list(), columns = ['Antal_HH'])\n",
    "split = pd.DataFrame(df['key'].tolist(), columns = ['DESO', 'Hushållstyp', 'År'])\n",
    "df = split.join(values).drop('År', axis = 1)\n",
    "df = df.pivot(index = 'DESO', columns = ['Hushållstyp'], values = 'Antal_HH')\n",
    "df.columns.name = None\n",
    "df = df.astype(int)\n",
    "df.drop('TOTALT', axis = 1, inplace = True)\n",
    "df = df.divide(df.sum(axis = 1), axis = 0)\n",
    "deso = pd.merge(deso, df, left_on = 'deso', right_index = True)"
   ]
  },
  {
   "cell_type": "markdown",
   "id": "dc07aa2f-bb21-4199-9671-1dbc3e75b0cf",
   "metadata": {},
   "source": [
    "## Personbilar per status"
   ]
  },
  {
   "cell_type": "code",
   "execution_count": null,
   "id": "3d89fd71-8245-4988-865e-9a6bef70124c",
   "metadata": {},
   "outputs": [],
   "source": [
    "session = requests.Session()\n",
    "x = open('req_data/pxapi-api_table_PersBilarDeso.json')\n",
    "query = json.load(x)['queryObj']\n",
    "url = 'https://api.scb.se/OV0104/v1/doris/sv/ssd/START/TK/TK1001/TK1001Z/PersBilarDeso'\n",
    "query['response']['format'] = 'json'\n",
    "response = session.post(url, json=query)\n",
    "response_json = json.loads(response.content)"
   ]
  },
  {
   "cell_type": "code",
   "execution_count": null,
   "id": "243a9631-9c20-4768-b121-434942fb6b2e",
   "metadata": {},
   "outputs": [],
   "source": [
    "df = pd.DataFrame(data = response_json['data'])\n",
    "values = pd.DataFrame(df['values'].to_list(), columns = ['Antal_personbilar'])\n",
    "split = pd.DataFrame(df['key'].tolist(), columns = ['DESO', 'Status', 'År'])\n",
    "df = split.join(values).drop('År', axis = 1)\n",
    "df = df.pivot(index = 'DESO', columns = ['Status'], values = 'Antal_personbilar')\n",
    "df.columns.name = None\n",
    "df = df.astype(int)\n",
    "df.loc[:, ['AVST', 'ITRAF']] = df.loc[:, ['AVST', 'ITRAF']].divide(df.loc[:, ['AVST', 'ITRAF']].sum(axis = 1), axis = 0)\n",
    "deso = pd.merge(deso, df, left_on = 'deso', right_index = True)"
   ]
  },
  {
   "cell_type": "markdown",
   "id": "c7eedba7-86c7-4afd-a41a-5c69a15c41b9",
   "metadata": {},
   "source": [
    "## Antal personer per inkomnstkvartial (i %)"
   ]
  },
  {
   "cell_type": "code",
   "execution_count": null,
   "id": "cc82a575-e15c-404a-af4a-f8091b5577cf",
   "metadata": {},
   "outputs": [],
   "source": [
    "session = requests.Session()\n",
    "x = open('req_data/pxapi-api_table_Tab1InkDesoN.json')\n",
    "query = json.load(x)['queryObj']\n",
    "url = 'https://api.scb.se/OV0104/v1/doris/sv/ssd/START/HE/HE0110/HE0110I/Tab1InkDesoN'\n",
    "query['response']['format'] = 'json'\n",
    "response = session.post(url, json=query)\n",
    "response_json = json.loads(response.content)"
   ]
  },
  {
   "cell_type": "code",
   "execution_count": null,
   "id": "88cc9ed1-c692-4d56-95f2-98b46716d0f6",
   "metadata": {},
   "outputs": [],
   "source": [
    "df = pd.DataFrame(data = response_json['data'])\n",
    "values = pd.DataFrame(df['values'].to_list(), columns = ['Kvartil_1', 'Kvartil_2', 'Kvartil_3', 'Kvartil_4', 'Medianink', 'Medelink'])\n",
    "split = pd.DataFrame(df['key'].tolist(), columns = ['DESO', 'Nettoink', 'Kön', 'År'])\n",
    "df = split.join(values).drop(['År', 'Nettoink', 'Kön'], axis = 1)\n",
    "df.index = df.DESO\n",
    "df.drop('DESO', axis = 1, inplace = True)\n",
    "df = df.astype(float)\n",
    "df.loc[:, ['Kvartil_1', 'Kvartil_2', 'Kvartil_3', 'Kvartil_4']] = df.loc[:, ['Kvartil_1', 'Kvartil_2', 'Kvartil_3', 'Kvartil_4']].divide(df.loc[:, ['Kvartil_1', 'Kvartil_2', 'Kvartil_3', 'Kvartil_4']].sum(axis = 1), axis = 0)\n",
    "deso = pd.merge(deso, df, left_on = 'deso', right_index = True)"
   ]
  },
  {
   "cell_type": "markdown",
   "id": "11c9be55-7390-4796-8211-2138886e0b91",
   "metadata": {},
   "source": [
    "## Förvärvsarbetande befolkning"
   ]
  },
  {
   "cell_type": "code",
   "execution_count": null,
   "id": "b4ef8f7a-b2d4-42b6-9c1e-63d89d7a7343",
   "metadata": {},
   "outputs": [],
   "source": [
    "session = requests.Session()\n",
    "x = open('req_data/pxapi-api_table_BefDeSoSyssN.json')\n",
    "query = json.load(x)['queryObj']\n",
    "url = 'https://api.scb.se/OV0104/v1/doris/sv/ssd/START/AM/AM0207/AM0207I/BefDeSoSyssN'\n",
    "query['response']['format'] = 'json'\n",
    "response = session.post(url, json=query)\n",
    "response_json = json.loads(response.content)"
   ]
  },
  {
   "cell_type": "code",
   "execution_count": null,
   "id": "221b0a97-2b3a-472f-9504-70f727ae13ac",
   "metadata": {},
   "outputs": [],
   "source": [
    "df = pd.DataFrame(data = response_json['data'])\n",
    "values = pd.DataFrame(df['values'].to_list(), columns = ['Antal_arbetsstatus'])\n",
    "split = pd.DataFrame(df['key'].tolist(), columns = ['DESO', 'Arbetsstatus', 'Kön', 'År'])\n",
    "split.loc[split.Kön == '1', 'Kön'] = 'Man'\n",
    "split.loc[split.Kön == '2', 'Kön'] = 'Kvinna'\n",
    "split.loc[split.Kön == '1+2', 'Kön'] = 'Båda'\n",
    "split = split.loc[split.Kön != 'Båda']\n",
    "df = split.join(values).drop('År', axis = 1)\n",
    "df = df.pivot(index = 'DESO', columns = ['Arbetsstatus', 'Kön'], values = 'Antal_arbetsstatus')\n",
    "df.columns.name = None\n",
    "df.columns = df.columns.to_flat_index()\n",
    "df = df.astype(int)\n",
    "df.loc[:, [('FÖRV', 'Man'), ('EJFÖRV', 'Man')]] = df.loc[:, [('FÖRV', 'Man'), ('EJFÖRV', 'Man')]].divide(df[('total', 'Man')], axis = 0)\n",
    "df.loc[:, [('FÖRV', 'Kvinna'), ('EJFÖRV', 'Kvinna')]] = df.loc[:, [('FÖRV', 'Kvinna'), ('EJFÖRV', 'Kvinna')]].divide(df[('total', 'Kvinna')], axis = 0)\n",
    "df['TOT_BEF'] = df[[('total', 'Man'), ('total', 'Kvinna')]].sum(axis = 1)\n",
    "df.drop([('total', 'Man'), ('total', 'Kvinna')], axis = 1, inplace = True)\n",
    "deso = pd.merge(deso, df, left_on = 'deso', right_index = True)"
   ]
  },
  {
   "cell_type": "code",
   "execution_count": null,
   "id": "d5411838-8773-4e89-84b9-78c6f135023d",
   "metadata": {},
   "outputs": [],
   "source": [
    "deso['BEF_THT'] = deso['TOT_BEF'].divide(deso.area, axis = 0)\n",
    "deso['FORDON_PP'] = deso['TOT'].divide(deso['TOT_BEF'], axis = 0)"
   ]
  },
  {
   "cell_type": "code",
   "execution_count": null,
   "id": "30083c64-cf9e-41f9-a0dc-de74f1ba2db8",
   "metadata": {},
   "outputs": [],
   "source": [
    "new_columns = []\n",
    "for i in deso.columns:\n",
    "    if type(i) == tuple:\n",
    "        j = '_'.join(i).rstrip('_')\n",
    "        new_columns.append(j)\n",
    "    else:\n",
    "        new_columns.append(i)\n",
    "deso.columns = new_columns"
   ]
  },
  {
   "cell_type": "code",
   "execution_count": null,
   "id": "ea274393-2958-42f9-bb34-73e9dd41c1f6",
   "metadata": {},
   "outputs": [],
   "source": [
    "deso.to_file('output/preprocessed_data.gpkg')"
   ]
  },
  {
   "cell_type": "code",
   "execution_count": null,
   "id": "e38754d9-bf84-4c8b-b508-9d5bf268cf50",
   "metadata": {},
   "outputs": [],
   "source": [
    "pd.DataFrame(data = deso).to_pickle('output/preprocessed_data.pkl')"
   ]
  }
 ],
 "metadata": {
  "kernelspec": {
   "display_name": "TDA Env",
   "language": "python",
   "name": "myenv"
  },
  "language_info": {
   "codemirror_mode": {
    "name": "ipython",
    "version": 3
   },
   "file_extension": ".py",
   "mimetype": "text/x-python",
   "name": "python",
   "nbconvert_exporter": "python",
   "pygments_lexer": "ipython3",
   "version": "3.8.6"
  }
 },
 "nbformat": 4,
 "nbformat_minor": 5
}
